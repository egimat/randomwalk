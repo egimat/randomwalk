{
  "nbformat": 4,
  "nbformat_minor": 0,
  "metadata": {
    "colab": {
      "provenance": [],
      "authorship_tag": "ABX9TyOOXhPFFhaZaKMzs9ATQWal",
      "include_colab_link": true
    },
    "kernelspec": {
      "name": "python3",
      "display_name": "Python 3"
    },
    "language_info": {
      "name": "python"
    }
  },
  "cells": [
    {
      "cell_type": "markdown",
      "metadata": {
        "id": "view-in-github",
        "colab_type": "text"
      },
      "source": [
        "<a href=\"https://colab.research.google.com/github/egimat/randomwalk/blob/main/BreastCancerDetection_LogisticRegression.ipynb\" target=\"_parent\"><img src=\"https://colab.research.google.com/assets/colab-badge.svg\" alt=\"Open In Colab\"/></a>"
      ]
    },
    {
      "cell_type": "markdown",
      "source": [
        "# **Import packages**"
      ],
      "metadata": {
        "id": "JW72dHqwhpiD"
      }
    },
    {
      "cell_type": "code",
      "source": [
        "from google.colab import drive\n",
        "import os\n",
        "import zipfile\n",
        "import pandas as pd\n",
        "import numpy as np\n",
        "import matplotlib.pyplot as plt\n",
        "import seaborn as sns\n",
        "from sklearn.model_selection import train_test_split\n",
        "from sklearn.linear_model import LogisticRegression\n",
        "from sklearn.metrics import roc_curve, auc,confusion_matrix, classification_report, accuracy_score, precision_score, recall_score, f1_score\n",
        "from sklearn.preprocessing import StandardScaler\n",
        "from scipy.stats import zscore\n",
        "from imblearn.over_sampling import RandomOverSampler\n",
        "from imblearn.under_sampling import RandomUnderSampler\n",
        "from imblearn.pipeline import Pipeline"
      ],
      "metadata": {
        "id": "M2EuIK77hpDL"
      },
      "execution_count": null,
      "outputs": []
    },
    {
      "cell_type": "markdown",
      "source": [
        "# **Set-up environment**"
      ],
      "metadata": {
        "id": "-LLtwc-sUls_"
      }
    },
    {
      "cell_type": "code",
      "source": [
        "# Check if drive is not already mounted\n",
        "if not os.path.exists('/content/drive'):\n",
        "    # Mount Google Drive\n",
        "    drive.mount('/content/drive')\n",
        "    print(\"Google Drive is mounted.\")\n",
        "else:\n",
        "    print(\"Google Drive is already mounted.\")"
      ],
      "metadata": {
        "colab": {
          "base_uri": "https://localhost:8080/"
        },
        "id": "uBXlJCBLdKfX",
        "outputId": "c77a4a8a-7d53-465a-ca0d-165efd2420f6"
      },
      "execution_count": null,
      "outputs": [
        {
          "output_type": "stream",
          "name": "stdout",
          "text": [
            "Mounted at /content/drive\n",
            "Google Drive is mounted.\n"
          ]
        }
      ]
    },
    {
      "cell_type": "code",
      "source": [
        "# Specify the path to the .zip file in your Google Drive\n",
        "zip_file_path = '/content/drive/MyDrive/Coding/Kaggle/uciml_breast-cancer-wisconsin-data.zip'\n",
        "\n",
        "# Specify the extraction path\n",
        "extraction_path = '/content/extracted_data/'\n",
        "\n",
        "# Create the extraction directory if it doesn't exist\n",
        "os.makedirs(extraction_path, exist_ok=True)\n",
        "\n",
        "# Extract the contents of the .zip file\n",
        "with zipfile.ZipFile(zip_file_path, 'r') as zip_ref:\n",
        "    zip_ref.extractall(extraction_path)\n",
        "\n",
        "# List the paths of .csv files in the extraction directory\n",
        "csv_file_paths = [os.path.join(extraction_path, file) for file in os.listdir(extraction_path) if file.endswith('.csv')]\n",
        "\n",
        "# Display the list of .csv file paths\n",
        "csv_file_paths"
      ],
      "metadata": {
        "colab": {
          "base_uri": "https://localhost:8080/"
        },
        "id": "lOh0vG2yPtR-",
        "outputId": "858c674a-8363-4b64-8aae-515e3d96bb90"
      },
      "execution_count": null,
      "outputs": [
        {
          "output_type": "execute_result",
          "data": {
            "text/plain": [
              "['/content/extracted_data/data.csv']"
            ]
          },
          "metadata": {},
          "execution_count": 3
        }
      ]
    },
    {
      "cell_type": "code",
      "source": [
        "# # Check if Kaggle is not already installed\n",
        "if not os.path.exists('/usr/local/bin/kaggle'):\n",
        "    # Install Kaggle\n",
        "    !pip install kaggle\n",
        "    print(\"Kaggle is installed.\")\n",
        "else:\n",
        "    print(\"Kaggle is already installed.\")"
      ],
      "metadata": {
        "id": "TC3DSIoGdSs9",
        "colab": {
          "base_uri": "https://localhost:8080/"
        },
        "outputId": "fedf60f8-1d00-4a8f-dd53-f701c5c95036"
      },
      "execution_count": null,
      "outputs": [
        {
          "output_type": "stream",
          "name": "stdout",
          "text": [
            "Kaggle is already installed.\n"
          ]
        }
      ]
    },
    {
      "cell_type": "code",
      "source": [
        "# # Set the path to the Kaggle API key in Google Drive\n",
        "kaggle_key_path = '/content/drive/MyDrive/Coding/Kaggle/kaggle.json'\n",
        "\n",
        "# Check if Kaggle API key is not already uploaded\n",
        "if not os.path.exists('/root/.kaggle/kaggle.json'):\n",
        "    # Copy Kaggle API key from Google Drive to Colab\n",
        "    !mkdir -p /root/.kaggle/\n",
        "    !cp \"$kaggle_key_path\" /root/.kaggle/kaggle.json\n",
        "    # Set appropriate permissions\n",
        "    !chmod 600 /root/.kaggle/kaggle.json\n",
        "    print(\"Kaggle API key is uploaded.\")\n",
        "else:\n",
        "    print(\"Kaggle API key is already uploaded.\")"
      ],
      "metadata": {
        "id": "gZtzQb9LdYWm"
      },
      "execution_count": null,
      "outputs": []
    },
    {
      "cell_type": "code",
      "source": [
        "# # Copy API command from Kaggle dataset\n",
        "dataset_path = input(\"Enter Kaggle dataset path (e.g., uciml/breast-cancer-wisconsin-data): \")\n",
        "\n",
        "# Construct the full command\n",
        "!kaggle datasets download -d {dataset_path}\n",
        "\n",
        "# !kaggle datasets download -d uciml/breast-cancer-wisconsin-data"
      ],
      "metadata": {
        "id": "1Qxy6gb43VID",
        "colab": {
          "base_uri": "https://localhost:8080/"
        },
        "outputId": "e5682cec-2827-470f-e491-9e098bc20fce"
      },
      "execution_count": null,
      "outputs": [
        {
          "output_type": "stream",
          "name": "stdout",
          "text": [
            "Enter Kaggle dataset path (e.g., uciml/breast-cancer-wisconsin-data): uciml/breast-cancer-wisconsin-data\n",
            "Downloading breast-cancer-wisconsin-data.zip to /content\n",
            "  0% 0.00/48.6k [00:00<?, ?B/s]\n",
            "100% 48.6k/48.6k [00:00<00:00, 2.02MB/s]\n"
          ]
        }
      ]
    },
    {
      "cell_type": "code",
      "source": [
        "# file_name = 'breast-cancer-wisconsin-data.zip' #the file is your dataset exact name\n",
        "# # with ZipFile(file_name, 'r') as zip_ref:\n",
        "# #     # Assuming the CSV file is named 'data.csv' within the zip file\n",
        "# #     csv_file_path = zip_ref.extract('data.csv', path='/content')\n",
        "# #     print(\"Path to the CSV file:\", csv_file_path)\n",
        "\n",
        "# with ZipFile(file_name, 'r') as zip_ref:\n",
        "#     # List the names of files in the .zip file\n",
        "#     zip_file_content = zip_ref.namelist()\n",
        "\n",
        "#     # Assuming the first CSV file found is the one you want\n",
        "#     csv_files = [file for file in zip_file_content if file.endswith('.csv')]\n",
        "#     if csv_files:\n",
        "#         csv_file_path = zip_ref.extract(csv_files[0], path='/content')\n",
        "#         print(\"Path to the CSV file:\", csv_file_path)\n",
        "\n",
        "#         # Now you can use pd.read_csv with csv_file_path\n",
        "#         df = pd.read_csv(csv_file_path)\n",
        "\n",
        "#         # Additional processing or analysis using the DataFrame 'df' can be done here\n",
        "#     else:\n",
        "#         print(\"No CSV file found in the dataset.\")\n"
      ],
      "metadata": {
        "id": "X5h8xEsS52wk"
      },
      "execution_count": null,
      "outputs": []
    },
    {
      "cell_type": "markdown",
      "source": [
        "# **Access and explore data**"
      ],
      "metadata": {
        "id": "kMIdcsXdUsRH"
      }
    },
    {
      "cell_type": "code",
      "source": [
        "df = pd.read_csv('/content/extracted_data/data.csv')\n",
        "\n",
        "df.head()"
      ],
      "metadata": {
        "colab": {
          "base_uri": "https://localhost:8080/",
          "height": 273
        },
        "id": "Pr-nHHJyhwn6",
        "outputId": "1b07cf34-9142-48f7-9ef0-a047a8b192a0"
      },
      "execution_count": null,
      "outputs": [
        {
          "output_type": "execute_result",
          "data": {
            "text/plain": [
              "         id diagnosis  radius_mean  texture_mean  perimeter_mean  area_mean  \\\n",
              "0    842302         M        17.99         10.38          122.80     1001.0   \n",
              "1    842517         M        20.57         17.77          132.90     1326.0   \n",
              "2  84300903         M        19.69         21.25          130.00     1203.0   \n",
              "3  84348301         M        11.42         20.38           77.58      386.1   \n",
              "4  84358402         M        20.29         14.34          135.10     1297.0   \n",
              "\n",
              "   smoothness_mean  compactness_mean  concavity_mean  concave points_mean  \\\n",
              "0          0.11840           0.27760          0.3001              0.14710   \n",
              "1          0.08474           0.07864          0.0869              0.07017   \n",
              "2          0.10960           0.15990          0.1974              0.12790   \n",
              "3          0.14250           0.28390          0.2414              0.10520   \n",
              "4          0.10030           0.13280          0.1980              0.10430   \n",
              "\n",
              "   ...  texture_worst  perimeter_worst  area_worst  smoothness_worst  \\\n",
              "0  ...          17.33           184.60      2019.0            0.1622   \n",
              "1  ...          23.41           158.80      1956.0            0.1238   \n",
              "2  ...          25.53           152.50      1709.0            0.1444   \n",
              "3  ...          26.50            98.87       567.7            0.2098   \n",
              "4  ...          16.67           152.20      1575.0            0.1374   \n",
              "\n",
              "   compactness_worst  concavity_worst  concave points_worst  symmetry_worst  \\\n",
              "0             0.6656           0.7119                0.2654          0.4601   \n",
              "1             0.1866           0.2416                0.1860          0.2750   \n",
              "2             0.4245           0.4504                0.2430          0.3613   \n",
              "3             0.8663           0.6869                0.2575          0.6638   \n",
              "4             0.2050           0.4000                0.1625          0.2364   \n",
              "\n",
              "   fractal_dimension_worst  Unnamed: 32  \n",
              "0                  0.11890          NaN  \n",
              "1                  0.08902          NaN  \n",
              "2                  0.08758          NaN  \n",
              "3                  0.17300          NaN  \n",
              "4                  0.07678          NaN  \n",
              "\n",
              "[5 rows x 33 columns]"
            ],
            "text/html": [
              "\n",
              "  <div id=\"df-21edccf3-e99c-4d5a-a341-812436f401fe\" class=\"colab-df-container\">\n",
              "    <div>\n",
              "<style scoped>\n",
              "    .dataframe tbody tr th:only-of-type {\n",
              "        vertical-align: middle;\n",
              "    }\n",
              "\n",
              "    .dataframe tbody tr th {\n",
              "        vertical-align: top;\n",
              "    }\n",
              "\n",
              "    .dataframe thead th {\n",
              "        text-align: right;\n",
              "    }\n",
              "</style>\n",
              "<table border=\"1\" class=\"dataframe\">\n",
              "  <thead>\n",
              "    <tr style=\"text-align: right;\">\n",
              "      <th></th>\n",
              "      <th>id</th>\n",
              "      <th>diagnosis</th>\n",
              "      <th>radius_mean</th>\n",
              "      <th>texture_mean</th>\n",
              "      <th>perimeter_mean</th>\n",
              "      <th>area_mean</th>\n",
              "      <th>smoothness_mean</th>\n",
              "      <th>compactness_mean</th>\n",
              "      <th>concavity_mean</th>\n",
              "      <th>concave points_mean</th>\n",
              "      <th>...</th>\n",
              "      <th>texture_worst</th>\n",
              "      <th>perimeter_worst</th>\n",
              "      <th>area_worst</th>\n",
              "      <th>smoothness_worst</th>\n",
              "      <th>compactness_worst</th>\n",
              "      <th>concavity_worst</th>\n",
              "      <th>concave points_worst</th>\n",
              "      <th>symmetry_worst</th>\n",
              "      <th>fractal_dimension_worst</th>\n",
              "      <th>Unnamed: 32</th>\n",
              "    </tr>\n",
              "  </thead>\n",
              "  <tbody>\n",
              "    <tr>\n",
              "      <th>0</th>\n",
              "      <td>842302</td>\n",
              "      <td>M</td>\n",
              "      <td>17.99</td>\n",
              "      <td>10.38</td>\n",
              "      <td>122.80</td>\n",
              "      <td>1001.0</td>\n",
              "      <td>0.11840</td>\n",
              "      <td>0.27760</td>\n",
              "      <td>0.3001</td>\n",
              "      <td>0.14710</td>\n",
              "      <td>...</td>\n",
              "      <td>17.33</td>\n",
              "      <td>184.60</td>\n",
              "      <td>2019.0</td>\n",
              "      <td>0.1622</td>\n",
              "      <td>0.6656</td>\n",
              "      <td>0.7119</td>\n",
              "      <td>0.2654</td>\n",
              "      <td>0.4601</td>\n",
              "      <td>0.11890</td>\n",
              "      <td>NaN</td>\n",
              "    </tr>\n",
              "    <tr>\n",
              "      <th>1</th>\n",
              "      <td>842517</td>\n",
              "      <td>M</td>\n",
              "      <td>20.57</td>\n",
              "      <td>17.77</td>\n",
              "      <td>132.90</td>\n",
              "      <td>1326.0</td>\n",
              "      <td>0.08474</td>\n",
              "      <td>0.07864</td>\n",
              "      <td>0.0869</td>\n",
              "      <td>0.07017</td>\n",
              "      <td>...</td>\n",
              "      <td>23.41</td>\n",
              "      <td>158.80</td>\n",
              "      <td>1956.0</td>\n",
              "      <td>0.1238</td>\n",
              "      <td>0.1866</td>\n",
              "      <td>0.2416</td>\n",
              "      <td>0.1860</td>\n",
              "      <td>0.2750</td>\n",
              "      <td>0.08902</td>\n",
              "      <td>NaN</td>\n",
              "    </tr>\n",
              "    <tr>\n",
              "      <th>2</th>\n",
              "      <td>84300903</td>\n",
              "      <td>M</td>\n",
              "      <td>19.69</td>\n",
              "      <td>21.25</td>\n",
              "      <td>130.00</td>\n",
              "      <td>1203.0</td>\n",
              "      <td>0.10960</td>\n",
              "      <td>0.15990</td>\n",
              "      <td>0.1974</td>\n",
              "      <td>0.12790</td>\n",
              "      <td>...</td>\n",
              "      <td>25.53</td>\n",
              "      <td>152.50</td>\n",
              "      <td>1709.0</td>\n",
              "      <td>0.1444</td>\n",
              "      <td>0.4245</td>\n",
              "      <td>0.4504</td>\n",
              "      <td>0.2430</td>\n",
              "      <td>0.3613</td>\n",
              "      <td>0.08758</td>\n",
              "      <td>NaN</td>\n",
              "    </tr>\n",
              "    <tr>\n",
              "      <th>3</th>\n",
              "      <td>84348301</td>\n",
              "      <td>M</td>\n",
              "      <td>11.42</td>\n",
              "      <td>20.38</td>\n",
              "      <td>77.58</td>\n",
              "      <td>386.1</td>\n",
              "      <td>0.14250</td>\n",
              "      <td>0.28390</td>\n",
              "      <td>0.2414</td>\n",
              "      <td>0.10520</td>\n",
              "      <td>...</td>\n",
              "      <td>26.50</td>\n",
              "      <td>98.87</td>\n",
              "      <td>567.7</td>\n",
              "      <td>0.2098</td>\n",
              "      <td>0.8663</td>\n",
              "      <td>0.6869</td>\n",
              "      <td>0.2575</td>\n",
              "      <td>0.6638</td>\n",
              "      <td>0.17300</td>\n",
              "      <td>NaN</td>\n",
              "    </tr>\n",
              "    <tr>\n",
              "      <th>4</th>\n",
              "      <td>84358402</td>\n",
              "      <td>M</td>\n",
              "      <td>20.29</td>\n",
              "      <td>14.34</td>\n",
              "      <td>135.10</td>\n",
              "      <td>1297.0</td>\n",
              "      <td>0.10030</td>\n",
              "      <td>0.13280</td>\n",
              "      <td>0.1980</td>\n",
              "      <td>0.10430</td>\n",
              "      <td>...</td>\n",
              "      <td>16.67</td>\n",
              "      <td>152.20</td>\n",
              "      <td>1575.0</td>\n",
              "      <td>0.1374</td>\n",
              "      <td>0.2050</td>\n",
              "      <td>0.4000</td>\n",
              "      <td>0.1625</td>\n",
              "      <td>0.2364</td>\n",
              "      <td>0.07678</td>\n",
              "      <td>NaN</td>\n",
              "    </tr>\n",
              "  </tbody>\n",
              "</table>\n",
              "<p>5 rows × 33 columns</p>\n",
              "</div>\n",
              "    <div class=\"colab-df-buttons\">\n",
              "\n",
              "  <div class=\"colab-df-container\">\n",
              "    <button class=\"colab-df-convert\" onclick=\"convertToInteractive('df-21edccf3-e99c-4d5a-a341-812436f401fe')\"\n",
              "            title=\"Convert this dataframe to an interactive table.\"\n",
              "            style=\"display:none;\">\n",
              "\n",
              "  <svg xmlns=\"http://www.w3.org/2000/svg\" height=\"24px\" viewBox=\"0 -960 960 960\">\n",
              "    <path d=\"M120-120v-720h720v720H120Zm60-500h600v-160H180v160Zm220 220h160v-160H400v160Zm0 220h160v-160H400v160ZM180-400h160v-160H180v160Zm440 0h160v-160H620v160ZM180-180h160v-160H180v160Zm440 0h160v-160H620v160Z\"/>\n",
              "  </svg>\n",
              "    </button>\n",
              "\n",
              "  <style>\n",
              "    .colab-df-container {\n",
              "      display:flex;\n",
              "      gap: 12px;\n",
              "    }\n",
              "\n",
              "    .colab-df-convert {\n",
              "      background-color: #E8F0FE;\n",
              "      border: none;\n",
              "      border-radius: 50%;\n",
              "      cursor: pointer;\n",
              "      display: none;\n",
              "      fill: #1967D2;\n",
              "      height: 32px;\n",
              "      padding: 0 0 0 0;\n",
              "      width: 32px;\n",
              "    }\n",
              "\n",
              "    .colab-df-convert:hover {\n",
              "      background-color: #E2EBFA;\n",
              "      box-shadow: 0px 1px 2px rgba(60, 64, 67, 0.3), 0px 1px 3px 1px rgba(60, 64, 67, 0.15);\n",
              "      fill: #174EA6;\n",
              "    }\n",
              "\n",
              "    .colab-df-buttons div {\n",
              "      margin-bottom: 4px;\n",
              "    }\n",
              "\n",
              "    [theme=dark] .colab-df-convert {\n",
              "      background-color: #3B4455;\n",
              "      fill: #D2E3FC;\n",
              "    }\n",
              "\n",
              "    [theme=dark] .colab-df-convert:hover {\n",
              "      background-color: #434B5C;\n",
              "      box-shadow: 0px 1px 3px 1px rgba(0, 0, 0, 0.15);\n",
              "      filter: drop-shadow(0px 1px 2px rgba(0, 0, 0, 0.3));\n",
              "      fill: #FFFFFF;\n",
              "    }\n",
              "  </style>\n",
              "\n",
              "    <script>\n",
              "      const buttonEl =\n",
              "        document.querySelector('#df-21edccf3-e99c-4d5a-a341-812436f401fe button.colab-df-convert');\n",
              "      buttonEl.style.display =\n",
              "        google.colab.kernel.accessAllowed ? 'block' : 'none';\n",
              "\n",
              "      async function convertToInteractive(key) {\n",
              "        const element = document.querySelector('#df-21edccf3-e99c-4d5a-a341-812436f401fe');\n",
              "        const dataTable =\n",
              "          await google.colab.kernel.invokeFunction('convertToInteractive',\n",
              "                                                    [key], {});\n",
              "        if (!dataTable) return;\n",
              "\n",
              "        const docLinkHtml = 'Like what you see? Visit the ' +\n",
              "          '<a target=\"_blank\" href=https://colab.research.google.com/notebooks/data_table.ipynb>data table notebook</a>'\n",
              "          + ' to learn more about interactive tables.';\n",
              "        element.innerHTML = '';\n",
              "        dataTable['output_type'] = 'display_data';\n",
              "        await google.colab.output.renderOutput(dataTable, element);\n",
              "        const docLink = document.createElement('div');\n",
              "        docLink.innerHTML = docLinkHtml;\n",
              "        element.appendChild(docLink);\n",
              "      }\n",
              "    </script>\n",
              "  </div>\n",
              "\n",
              "\n",
              "<div id=\"df-efa35c12-6307-4bce-83d4-7408ef0967b7\">\n",
              "  <button class=\"colab-df-quickchart\" onclick=\"quickchart('df-efa35c12-6307-4bce-83d4-7408ef0967b7')\"\n",
              "            title=\"Suggest charts\"\n",
              "            style=\"display:none;\">\n",
              "\n",
              "<svg xmlns=\"http://www.w3.org/2000/svg\" height=\"24px\"viewBox=\"0 0 24 24\"\n",
              "     width=\"24px\">\n",
              "    <g>\n",
              "        <path d=\"M19 3H5c-1.1 0-2 .9-2 2v14c0 1.1.9 2 2 2h14c1.1 0 2-.9 2-2V5c0-1.1-.9-2-2-2zM9 17H7v-7h2v7zm4 0h-2V7h2v10zm4 0h-2v-4h2v4z\"/>\n",
              "    </g>\n",
              "</svg>\n",
              "  </button>\n",
              "\n",
              "<style>\n",
              "  .colab-df-quickchart {\n",
              "      --bg-color: #E8F0FE;\n",
              "      --fill-color: #1967D2;\n",
              "      --hover-bg-color: #E2EBFA;\n",
              "      --hover-fill-color: #174EA6;\n",
              "      --disabled-fill-color: #AAA;\n",
              "      --disabled-bg-color: #DDD;\n",
              "  }\n",
              "\n",
              "  [theme=dark] .colab-df-quickchart {\n",
              "      --bg-color: #3B4455;\n",
              "      --fill-color: #D2E3FC;\n",
              "      --hover-bg-color: #434B5C;\n",
              "      --hover-fill-color: #FFFFFF;\n",
              "      --disabled-bg-color: #3B4455;\n",
              "      --disabled-fill-color: #666;\n",
              "  }\n",
              "\n",
              "  .colab-df-quickchart {\n",
              "    background-color: var(--bg-color);\n",
              "    border: none;\n",
              "    border-radius: 50%;\n",
              "    cursor: pointer;\n",
              "    display: none;\n",
              "    fill: var(--fill-color);\n",
              "    height: 32px;\n",
              "    padding: 0;\n",
              "    width: 32px;\n",
              "  }\n",
              "\n",
              "  .colab-df-quickchart:hover {\n",
              "    background-color: var(--hover-bg-color);\n",
              "    box-shadow: 0 1px 2px rgba(60, 64, 67, 0.3), 0 1px 3px 1px rgba(60, 64, 67, 0.15);\n",
              "    fill: var(--button-hover-fill-color);\n",
              "  }\n",
              "\n",
              "  .colab-df-quickchart-complete:disabled,\n",
              "  .colab-df-quickchart-complete:disabled:hover {\n",
              "    background-color: var(--disabled-bg-color);\n",
              "    fill: var(--disabled-fill-color);\n",
              "    box-shadow: none;\n",
              "  }\n",
              "\n",
              "  .colab-df-spinner {\n",
              "    border: 2px solid var(--fill-color);\n",
              "    border-color: transparent;\n",
              "    border-bottom-color: var(--fill-color);\n",
              "    animation:\n",
              "      spin 1s steps(1) infinite;\n",
              "  }\n",
              "\n",
              "  @keyframes spin {\n",
              "    0% {\n",
              "      border-color: transparent;\n",
              "      border-bottom-color: var(--fill-color);\n",
              "      border-left-color: var(--fill-color);\n",
              "    }\n",
              "    20% {\n",
              "      border-color: transparent;\n",
              "      border-left-color: var(--fill-color);\n",
              "      border-top-color: var(--fill-color);\n",
              "    }\n",
              "    30% {\n",
              "      border-color: transparent;\n",
              "      border-left-color: var(--fill-color);\n",
              "      border-top-color: var(--fill-color);\n",
              "      border-right-color: var(--fill-color);\n",
              "    }\n",
              "    40% {\n",
              "      border-color: transparent;\n",
              "      border-right-color: var(--fill-color);\n",
              "      border-top-color: var(--fill-color);\n",
              "    }\n",
              "    60% {\n",
              "      border-color: transparent;\n",
              "      border-right-color: var(--fill-color);\n",
              "    }\n",
              "    80% {\n",
              "      border-color: transparent;\n",
              "      border-right-color: var(--fill-color);\n",
              "      border-bottom-color: var(--fill-color);\n",
              "    }\n",
              "    90% {\n",
              "      border-color: transparent;\n",
              "      border-bottom-color: var(--fill-color);\n",
              "    }\n",
              "  }\n",
              "</style>\n",
              "\n",
              "  <script>\n",
              "    async function quickchart(key) {\n",
              "      const quickchartButtonEl =\n",
              "        document.querySelector('#' + key + ' button');\n",
              "      quickchartButtonEl.disabled = true;  // To prevent multiple clicks.\n",
              "      quickchartButtonEl.classList.add('colab-df-spinner');\n",
              "      try {\n",
              "        const charts = await google.colab.kernel.invokeFunction(\n",
              "            'suggestCharts', [key], {});\n",
              "      } catch (error) {\n",
              "        console.error('Error during call to suggestCharts:', error);\n",
              "      }\n",
              "      quickchartButtonEl.classList.remove('colab-df-spinner');\n",
              "      quickchartButtonEl.classList.add('colab-df-quickchart-complete');\n",
              "    }\n",
              "    (() => {\n",
              "      let quickchartButtonEl =\n",
              "        document.querySelector('#df-efa35c12-6307-4bce-83d4-7408ef0967b7 button');\n",
              "      quickchartButtonEl.style.display =\n",
              "        google.colab.kernel.accessAllowed ? 'block' : 'none';\n",
              "    })();\n",
              "  </script>\n",
              "</div>\n",
              "\n",
              "    </div>\n",
              "  </div>\n"
            ]
          },
          "metadata": {},
          "execution_count": 8
        }
      ]
    },
    {
      "cell_type": "code",
      "source": [
        "df.info()"
      ],
      "metadata": {
        "colab": {
          "base_uri": "https://localhost:8080/"
        },
        "id": "6oV_2c7skUYI",
        "outputId": "093fc777-f016-4f0d-e353-72b7da2264d8"
      },
      "execution_count": null,
      "outputs": [
        {
          "output_type": "stream",
          "name": "stdout",
          "text": [
            "<class 'pandas.core.frame.DataFrame'>\n",
            "RangeIndex: 569 entries, 0 to 568\n",
            "Data columns (total 33 columns):\n",
            " #   Column                   Non-Null Count  Dtype  \n",
            "---  ------                   --------------  -----  \n",
            " 0   id                       569 non-null    int64  \n",
            " 1   diagnosis                569 non-null    object \n",
            " 2   radius_mean              569 non-null    float64\n",
            " 3   texture_mean             569 non-null    float64\n",
            " 4   perimeter_mean           569 non-null    float64\n",
            " 5   area_mean                569 non-null    float64\n",
            " 6   smoothness_mean          569 non-null    float64\n",
            " 7   compactness_mean         569 non-null    float64\n",
            " 8   concavity_mean           569 non-null    float64\n",
            " 9   concave points_mean      569 non-null    float64\n",
            " 10  symmetry_mean            569 non-null    float64\n",
            " 11  fractal_dimension_mean   569 non-null    float64\n",
            " 12  radius_se                569 non-null    float64\n",
            " 13  texture_se               569 non-null    float64\n",
            " 14  perimeter_se             569 non-null    float64\n",
            " 15  area_se                  569 non-null    float64\n",
            " 16  smoothness_se            569 non-null    float64\n",
            " 17  compactness_se           569 non-null    float64\n",
            " 18  concavity_se             569 non-null    float64\n",
            " 19  concave points_se        569 non-null    float64\n",
            " 20  symmetry_se              569 non-null    float64\n",
            " 21  fractal_dimension_se     569 non-null    float64\n",
            " 22  radius_worst             569 non-null    float64\n",
            " 23  texture_worst            569 non-null    float64\n",
            " 24  perimeter_worst          569 non-null    float64\n",
            " 25  area_worst               569 non-null    float64\n",
            " 26  smoothness_worst         569 non-null    float64\n",
            " 27  compactness_worst        569 non-null    float64\n",
            " 28  concavity_worst          569 non-null    float64\n",
            " 29  concave points_worst     569 non-null    float64\n",
            " 30  symmetry_worst           569 non-null    float64\n",
            " 31  fractal_dimension_worst  569 non-null    float64\n",
            " 32  Unnamed: 32              0 non-null      float64\n",
            "dtypes: float64(31), int64(1), object(1)\n",
            "memory usage: 146.8+ KB\n"
          ]
        }
      ]
    },
    {
      "cell_type": "code",
      "source": [
        "df.describe()"
      ],
      "metadata": {
        "colab": {
          "base_uri": "https://localhost:8080/",
          "height": 367
        },
        "id": "sFxqrdDCklxC",
        "outputId": "f0faa7c1-363d-4fdd-cb05-00ac0968ced1"
      },
      "execution_count": null,
      "outputs": [
        {
          "output_type": "execute_result",
          "data": {
            "text/plain": [
              "                 id  radius_mean  texture_mean  perimeter_mean    area_mean  \\\n",
              "count  5.690000e+02   569.000000    569.000000      569.000000   569.000000   \n",
              "mean   3.037183e+07    14.127292     19.289649       91.969033   654.889104   \n",
              "std    1.250206e+08     3.524049      4.301036       24.298981   351.914129   \n",
              "min    8.670000e+03     6.981000      9.710000       43.790000   143.500000   \n",
              "25%    8.692180e+05    11.700000     16.170000       75.170000   420.300000   \n",
              "50%    9.060240e+05    13.370000     18.840000       86.240000   551.100000   \n",
              "75%    8.813129e+06    15.780000     21.800000      104.100000   782.700000   \n",
              "max    9.113205e+08    28.110000     39.280000      188.500000  2501.000000   \n",
              "\n",
              "       smoothness_mean  compactness_mean  concavity_mean  concave points_mean  \\\n",
              "count       569.000000        569.000000      569.000000           569.000000   \n",
              "mean          0.096360          0.104341        0.088799             0.048919   \n",
              "std           0.014064          0.052813        0.079720             0.038803   \n",
              "min           0.052630          0.019380        0.000000             0.000000   \n",
              "25%           0.086370          0.064920        0.029560             0.020310   \n",
              "50%           0.095870          0.092630        0.061540             0.033500   \n",
              "75%           0.105300          0.130400        0.130700             0.074000   \n",
              "max           0.163400          0.345400        0.426800             0.201200   \n",
              "\n",
              "       symmetry_mean  ...  texture_worst  perimeter_worst   area_worst  \\\n",
              "count     569.000000  ...     569.000000       569.000000   569.000000   \n",
              "mean        0.181162  ...      25.677223       107.261213   880.583128   \n",
              "std         0.027414  ...       6.146258        33.602542   569.356993   \n",
              "min         0.106000  ...      12.020000        50.410000   185.200000   \n",
              "25%         0.161900  ...      21.080000        84.110000   515.300000   \n",
              "50%         0.179200  ...      25.410000        97.660000   686.500000   \n",
              "75%         0.195700  ...      29.720000       125.400000  1084.000000   \n",
              "max         0.304000  ...      49.540000       251.200000  4254.000000   \n",
              "\n",
              "       smoothness_worst  compactness_worst  concavity_worst  \\\n",
              "count        569.000000         569.000000       569.000000   \n",
              "mean           0.132369           0.254265         0.272188   \n",
              "std            0.022832           0.157336         0.208624   \n",
              "min            0.071170           0.027290         0.000000   \n",
              "25%            0.116600           0.147200         0.114500   \n",
              "50%            0.131300           0.211900         0.226700   \n",
              "75%            0.146000           0.339100         0.382900   \n",
              "max            0.222600           1.058000         1.252000   \n",
              "\n",
              "       concave points_worst  symmetry_worst  fractal_dimension_worst  \\\n",
              "count            569.000000      569.000000               569.000000   \n",
              "mean               0.114606        0.290076                 0.083946   \n",
              "std                0.065732        0.061867                 0.018061   \n",
              "min                0.000000        0.156500                 0.055040   \n",
              "25%                0.064930        0.250400                 0.071460   \n",
              "50%                0.099930        0.282200                 0.080040   \n",
              "75%                0.161400        0.317900                 0.092080   \n",
              "max                0.291000        0.663800                 0.207500   \n",
              "\n",
              "       Unnamed: 32  \n",
              "count          0.0  \n",
              "mean           NaN  \n",
              "std            NaN  \n",
              "min            NaN  \n",
              "25%            NaN  \n",
              "50%            NaN  \n",
              "75%            NaN  \n",
              "max            NaN  \n",
              "\n",
              "[8 rows x 32 columns]"
            ],
            "text/html": [
              "\n",
              "  <div id=\"df-e90d9143-0d49-4adb-a7eb-ec0314eb448d\" class=\"colab-df-container\">\n",
              "    <div>\n",
              "<style scoped>\n",
              "    .dataframe tbody tr th:only-of-type {\n",
              "        vertical-align: middle;\n",
              "    }\n",
              "\n",
              "    .dataframe tbody tr th {\n",
              "        vertical-align: top;\n",
              "    }\n",
              "\n",
              "    .dataframe thead th {\n",
              "        text-align: right;\n",
              "    }\n",
              "</style>\n",
              "<table border=\"1\" class=\"dataframe\">\n",
              "  <thead>\n",
              "    <tr style=\"text-align: right;\">\n",
              "      <th></th>\n",
              "      <th>id</th>\n",
              "      <th>radius_mean</th>\n",
              "      <th>texture_mean</th>\n",
              "      <th>perimeter_mean</th>\n",
              "      <th>area_mean</th>\n",
              "      <th>smoothness_mean</th>\n",
              "      <th>compactness_mean</th>\n",
              "      <th>concavity_mean</th>\n",
              "      <th>concave points_mean</th>\n",
              "      <th>symmetry_mean</th>\n",
              "      <th>...</th>\n",
              "      <th>texture_worst</th>\n",
              "      <th>perimeter_worst</th>\n",
              "      <th>area_worst</th>\n",
              "      <th>smoothness_worst</th>\n",
              "      <th>compactness_worst</th>\n",
              "      <th>concavity_worst</th>\n",
              "      <th>concave points_worst</th>\n",
              "      <th>symmetry_worst</th>\n",
              "      <th>fractal_dimension_worst</th>\n",
              "      <th>Unnamed: 32</th>\n",
              "    </tr>\n",
              "  </thead>\n",
              "  <tbody>\n",
              "    <tr>\n",
              "      <th>count</th>\n",
              "      <td>5.690000e+02</td>\n",
              "      <td>569.000000</td>\n",
              "      <td>569.000000</td>\n",
              "      <td>569.000000</td>\n",
              "      <td>569.000000</td>\n",
              "      <td>569.000000</td>\n",
              "      <td>569.000000</td>\n",
              "      <td>569.000000</td>\n",
              "      <td>569.000000</td>\n",
              "      <td>569.000000</td>\n",
              "      <td>...</td>\n",
              "      <td>569.000000</td>\n",
              "      <td>569.000000</td>\n",
              "      <td>569.000000</td>\n",
              "      <td>569.000000</td>\n",
              "      <td>569.000000</td>\n",
              "      <td>569.000000</td>\n",
              "      <td>569.000000</td>\n",
              "      <td>569.000000</td>\n",
              "      <td>569.000000</td>\n",
              "      <td>0.0</td>\n",
              "    </tr>\n",
              "    <tr>\n",
              "      <th>mean</th>\n",
              "      <td>3.037183e+07</td>\n",
              "      <td>14.127292</td>\n",
              "      <td>19.289649</td>\n",
              "      <td>91.969033</td>\n",
              "      <td>654.889104</td>\n",
              "      <td>0.096360</td>\n",
              "      <td>0.104341</td>\n",
              "      <td>0.088799</td>\n",
              "      <td>0.048919</td>\n",
              "      <td>0.181162</td>\n",
              "      <td>...</td>\n",
              "      <td>25.677223</td>\n",
              "      <td>107.261213</td>\n",
              "      <td>880.583128</td>\n",
              "      <td>0.132369</td>\n",
              "      <td>0.254265</td>\n",
              "      <td>0.272188</td>\n",
              "      <td>0.114606</td>\n",
              "      <td>0.290076</td>\n",
              "      <td>0.083946</td>\n",
              "      <td>NaN</td>\n",
              "    </tr>\n",
              "    <tr>\n",
              "      <th>std</th>\n",
              "      <td>1.250206e+08</td>\n",
              "      <td>3.524049</td>\n",
              "      <td>4.301036</td>\n",
              "      <td>24.298981</td>\n",
              "      <td>351.914129</td>\n",
              "      <td>0.014064</td>\n",
              "      <td>0.052813</td>\n",
              "      <td>0.079720</td>\n",
              "      <td>0.038803</td>\n",
              "      <td>0.027414</td>\n",
              "      <td>...</td>\n",
              "      <td>6.146258</td>\n",
              "      <td>33.602542</td>\n",
              "      <td>569.356993</td>\n",
              "      <td>0.022832</td>\n",
              "      <td>0.157336</td>\n",
              "      <td>0.208624</td>\n",
              "      <td>0.065732</td>\n",
              "      <td>0.061867</td>\n",
              "      <td>0.018061</td>\n",
              "      <td>NaN</td>\n",
              "    </tr>\n",
              "    <tr>\n",
              "      <th>min</th>\n",
              "      <td>8.670000e+03</td>\n",
              "      <td>6.981000</td>\n",
              "      <td>9.710000</td>\n",
              "      <td>43.790000</td>\n",
              "      <td>143.500000</td>\n",
              "      <td>0.052630</td>\n",
              "      <td>0.019380</td>\n",
              "      <td>0.000000</td>\n",
              "      <td>0.000000</td>\n",
              "      <td>0.106000</td>\n",
              "      <td>...</td>\n",
              "      <td>12.020000</td>\n",
              "      <td>50.410000</td>\n",
              "      <td>185.200000</td>\n",
              "      <td>0.071170</td>\n",
              "      <td>0.027290</td>\n",
              "      <td>0.000000</td>\n",
              "      <td>0.000000</td>\n",
              "      <td>0.156500</td>\n",
              "      <td>0.055040</td>\n",
              "      <td>NaN</td>\n",
              "    </tr>\n",
              "    <tr>\n",
              "      <th>25%</th>\n",
              "      <td>8.692180e+05</td>\n",
              "      <td>11.700000</td>\n",
              "      <td>16.170000</td>\n",
              "      <td>75.170000</td>\n",
              "      <td>420.300000</td>\n",
              "      <td>0.086370</td>\n",
              "      <td>0.064920</td>\n",
              "      <td>0.029560</td>\n",
              "      <td>0.020310</td>\n",
              "      <td>0.161900</td>\n",
              "      <td>...</td>\n",
              "      <td>21.080000</td>\n",
              "      <td>84.110000</td>\n",
              "      <td>515.300000</td>\n",
              "      <td>0.116600</td>\n",
              "      <td>0.147200</td>\n",
              "      <td>0.114500</td>\n",
              "      <td>0.064930</td>\n",
              "      <td>0.250400</td>\n",
              "      <td>0.071460</td>\n",
              "      <td>NaN</td>\n",
              "    </tr>\n",
              "    <tr>\n",
              "      <th>50%</th>\n",
              "      <td>9.060240e+05</td>\n",
              "      <td>13.370000</td>\n",
              "      <td>18.840000</td>\n",
              "      <td>86.240000</td>\n",
              "      <td>551.100000</td>\n",
              "      <td>0.095870</td>\n",
              "      <td>0.092630</td>\n",
              "      <td>0.061540</td>\n",
              "      <td>0.033500</td>\n",
              "      <td>0.179200</td>\n",
              "      <td>...</td>\n",
              "      <td>25.410000</td>\n",
              "      <td>97.660000</td>\n",
              "      <td>686.500000</td>\n",
              "      <td>0.131300</td>\n",
              "      <td>0.211900</td>\n",
              "      <td>0.226700</td>\n",
              "      <td>0.099930</td>\n",
              "      <td>0.282200</td>\n",
              "      <td>0.080040</td>\n",
              "      <td>NaN</td>\n",
              "    </tr>\n",
              "    <tr>\n",
              "      <th>75%</th>\n",
              "      <td>8.813129e+06</td>\n",
              "      <td>15.780000</td>\n",
              "      <td>21.800000</td>\n",
              "      <td>104.100000</td>\n",
              "      <td>782.700000</td>\n",
              "      <td>0.105300</td>\n",
              "      <td>0.130400</td>\n",
              "      <td>0.130700</td>\n",
              "      <td>0.074000</td>\n",
              "      <td>0.195700</td>\n",
              "      <td>...</td>\n",
              "      <td>29.720000</td>\n",
              "      <td>125.400000</td>\n",
              "      <td>1084.000000</td>\n",
              "      <td>0.146000</td>\n",
              "      <td>0.339100</td>\n",
              "      <td>0.382900</td>\n",
              "      <td>0.161400</td>\n",
              "      <td>0.317900</td>\n",
              "      <td>0.092080</td>\n",
              "      <td>NaN</td>\n",
              "    </tr>\n",
              "    <tr>\n",
              "      <th>max</th>\n",
              "      <td>9.113205e+08</td>\n",
              "      <td>28.110000</td>\n",
              "      <td>39.280000</td>\n",
              "      <td>188.500000</td>\n",
              "      <td>2501.000000</td>\n",
              "      <td>0.163400</td>\n",
              "      <td>0.345400</td>\n",
              "      <td>0.426800</td>\n",
              "      <td>0.201200</td>\n",
              "      <td>0.304000</td>\n",
              "      <td>...</td>\n",
              "      <td>49.540000</td>\n",
              "      <td>251.200000</td>\n",
              "      <td>4254.000000</td>\n",
              "      <td>0.222600</td>\n",
              "      <td>1.058000</td>\n",
              "      <td>1.252000</td>\n",
              "      <td>0.291000</td>\n",
              "      <td>0.663800</td>\n",
              "      <td>0.207500</td>\n",
              "      <td>NaN</td>\n",
              "    </tr>\n",
              "  </tbody>\n",
              "</table>\n",
              "<p>8 rows × 32 columns</p>\n",
              "</div>\n",
              "    <div class=\"colab-df-buttons\">\n",
              "\n",
              "  <div class=\"colab-df-container\">\n",
              "    <button class=\"colab-df-convert\" onclick=\"convertToInteractive('df-e90d9143-0d49-4adb-a7eb-ec0314eb448d')\"\n",
              "            title=\"Convert this dataframe to an interactive table.\"\n",
              "            style=\"display:none;\">\n",
              "\n",
              "  <svg xmlns=\"http://www.w3.org/2000/svg\" height=\"24px\" viewBox=\"0 -960 960 960\">\n",
              "    <path d=\"M120-120v-720h720v720H120Zm60-500h600v-160H180v160Zm220 220h160v-160H400v160Zm0 220h160v-160H400v160ZM180-400h160v-160H180v160Zm440 0h160v-160H620v160ZM180-180h160v-160H180v160Zm440 0h160v-160H620v160Z\"/>\n",
              "  </svg>\n",
              "    </button>\n",
              "\n",
              "  <style>\n",
              "    .colab-df-container {\n",
              "      display:flex;\n",
              "      gap: 12px;\n",
              "    }\n",
              "\n",
              "    .colab-df-convert {\n",
              "      background-color: #E8F0FE;\n",
              "      border: none;\n",
              "      border-radius: 50%;\n",
              "      cursor: pointer;\n",
              "      display: none;\n",
              "      fill: #1967D2;\n",
              "      height: 32px;\n",
              "      padding: 0 0 0 0;\n",
              "      width: 32px;\n",
              "    }\n",
              "\n",
              "    .colab-df-convert:hover {\n",
              "      background-color: #E2EBFA;\n",
              "      box-shadow: 0px 1px 2px rgba(60, 64, 67, 0.3), 0px 1px 3px 1px rgba(60, 64, 67, 0.15);\n",
              "      fill: #174EA6;\n",
              "    }\n",
              "\n",
              "    .colab-df-buttons div {\n",
              "      margin-bottom: 4px;\n",
              "    }\n",
              "\n",
              "    [theme=dark] .colab-df-convert {\n",
              "      background-color: #3B4455;\n",
              "      fill: #D2E3FC;\n",
              "    }\n",
              "\n",
              "    [theme=dark] .colab-df-convert:hover {\n",
              "      background-color: #434B5C;\n",
              "      box-shadow: 0px 1px 3px 1px rgba(0, 0, 0, 0.15);\n",
              "      filter: drop-shadow(0px 1px 2px rgba(0, 0, 0, 0.3));\n",
              "      fill: #FFFFFF;\n",
              "    }\n",
              "  </style>\n",
              "\n",
              "    <script>\n",
              "      const buttonEl =\n",
              "        document.querySelector('#df-e90d9143-0d49-4adb-a7eb-ec0314eb448d button.colab-df-convert');\n",
              "      buttonEl.style.display =\n",
              "        google.colab.kernel.accessAllowed ? 'block' : 'none';\n",
              "\n",
              "      async function convertToInteractive(key) {\n",
              "        const element = document.querySelector('#df-e90d9143-0d49-4adb-a7eb-ec0314eb448d');\n",
              "        const dataTable =\n",
              "          await google.colab.kernel.invokeFunction('convertToInteractive',\n",
              "                                                    [key], {});\n",
              "        if (!dataTable) return;\n",
              "\n",
              "        const docLinkHtml = 'Like what you see? Visit the ' +\n",
              "          '<a target=\"_blank\" href=https://colab.research.google.com/notebooks/data_table.ipynb>data table notebook</a>'\n",
              "          + ' to learn more about interactive tables.';\n",
              "        element.innerHTML = '';\n",
              "        dataTable['output_type'] = 'display_data';\n",
              "        await google.colab.output.renderOutput(dataTable, element);\n",
              "        const docLink = document.createElement('div');\n",
              "        docLink.innerHTML = docLinkHtml;\n",
              "        element.appendChild(docLink);\n",
              "      }\n",
              "    </script>\n",
              "  </div>\n",
              "\n",
              "\n",
              "<div id=\"df-14d71184-fd42-4950-8c5d-e39118032b56\">\n",
              "  <button class=\"colab-df-quickchart\" onclick=\"quickchart('df-14d71184-fd42-4950-8c5d-e39118032b56')\"\n",
              "            title=\"Suggest charts\"\n",
              "            style=\"display:none;\">\n",
              "\n",
              "<svg xmlns=\"http://www.w3.org/2000/svg\" height=\"24px\"viewBox=\"0 0 24 24\"\n",
              "     width=\"24px\">\n",
              "    <g>\n",
              "        <path d=\"M19 3H5c-1.1 0-2 .9-2 2v14c0 1.1.9 2 2 2h14c1.1 0 2-.9 2-2V5c0-1.1-.9-2-2-2zM9 17H7v-7h2v7zm4 0h-2V7h2v10zm4 0h-2v-4h2v4z\"/>\n",
              "    </g>\n",
              "</svg>\n",
              "  </button>\n",
              "\n",
              "<style>\n",
              "  .colab-df-quickchart {\n",
              "      --bg-color: #E8F0FE;\n",
              "      --fill-color: #1967D2;\n",
              "      --hover-bg-color: #E2EBFA;\n",
              "      --hover-fill-color: #174EA6;\n",
              "      --disabled-fill-color: #AAA;\n",
              "      --disabled-bg-color: #DDD;\n",
              "  }\n",
              "\n",
              "  [theme=dark] .colab-df-quickchart {\n",
              "      --bg-color: #3B4455;\n",
              "      --fill-color: #D2E3FC;\n",
              "      --hover-bg-color: #434B5C;\n",
              "      --hover-fill-color: #FFFFFF;\n",
              "      --disabled-bg-color: #3B4455;\n",
              "      --disabled-fill-color: #666;\n",
              "  }\n",
              "\n",
              "  .colab-df-quickchart {\n",
              "    background-color: var(--bg-color);\n",
              "    border: none;\n",
              "    border-radius: 50%;\n",
              "    cursor: pointer;\n",
              "    display: none;\n",
              "    fill: var(--fill-color);\n",
              "    height: 32px;\n",
              "    padding: 0;\n",
              "    width: 32px;\n",
              "  }\n",
              "\n",
              "  .colab-df-quickchart:hover {\n",
              "    background-color: var(--hover-bg-color);\n",
              "    box-shadow: 0 1px 2px rgba(60, 64, 67, 0.3), 0 1px 3px 1px rgba(60, 64, 67, 0.15);\n",
              "    fill: var(--button-hover-fill-color);\n",
              "  }\n",
              "\n",
              "  .colab-df-quickchart-complete:disabled,\n",
              "  .colab-df-quickchart-complete:disabled:hover {\n",
              "    background-color: var(--disabled-bg-color);\n",
              "    fill: var(--disabled-fill-color);\n",
              "    box-shadow: none;\n",
              "  }\n",
              "\n",
              "  .colab-df-spinner {\n",
              "    border: 2px solid var(--fill-color);\n",
              "    border-color: transparent;\n",
              "    border-bottom-color: var(--fill-color);\n",
              "    animation:\n",
              "      spin 1s steps(1) infinite;\n",
              "  }\n",
              "\n",
              "  @keyframes spin {\n",
              "    0% {\n",
              "      border-color: transparent;\n",
              "      border-bottom-color: var(--fill-color);\n",
              "      border-left-color: var(--fill-color);\n",
              "    }\n",
              "    20% {\n",
              "      border-color: transparent;\n",
              "      border-left-color: var(--fill-color);\n",
              "      border-top-color: var(--fill-color);\n",
              "    }\n",
              "    30% {\n",
              "      border-color: transparent;\n",
              "      border-left-color: var(--fill-color);\n",
              "      border-top-color: var(--fill-color);\n",
              "      border-right-color: var(--fill-color);\n",
              "    }\n",
              "    40% {\n",
              "      border-color: transparent;\n",
              "      border-right-color: var(--fill-color);\n",
              "      border-top-color: var(--fill-color);\n",
              "    }\n",
              "    60% {\n",
              "      border-color: transparent;\n",
              "      border-right-color: var(--fill-color);\n",
              "    }\n",
              "    80% {\n",
              "      border-color: transparent;\n",
              "      border-right-color: var(--fill-color);\n",
              "      border-bottom-color: var(--fill-color);\n",
              "    }\n",
              "    90% {\n",
              "      border-color: transparent;\n",
              "      border-bottom-color: var(--fill-color);\n",
              "    }\n",
              "  }\n",
              "</style>\n",
              "\n",
              "  <script>\n",
              "    async function quickchart(key) {\n",
              "      const quickchartButtonEl =\n",
              "        document.querySelector('#' + key + ' button');\n",
              "      quickchartButtonEl.disabled = true;  // To prevent multiple clicks.\n",
              "      quickchartButtonEl.classList.add('colab-df-spinner');\n",
              "      try {\n",
              "        const charts = await google.colab.kernel.invokeFunction(\n",
              "            'suggestCharts', [key], {});\n",
              "      } catch (error) {\n",
              "        console.error('Error during call to suggestCharts:', error);\n",
              "      }\n",
              "      quickchartButtonEl.classList.remove('colab-df-spinner');\n",
              "      quickchartButtonEl.classList.add('colab-df-quickchart-complete');\n",
              "    }\n",
              "    (() => {\n",
              "      let quickchartButtonEl =\n",
              "        document.querySelector('#df-14d71184-fd42-4950-8c5d-e39118032b56 button');\n",
              "      quickchartButtonEl.style.display =\n",
              "        google.colab.kernel.accessAllowed ? 'block' : 'none';\n",
              "    })();\n",
              "  </script>\n",
              "</div>\n",
              "\n",
              "    </div>\n",
              "  </div>\n"
            ]
          },
          "metadata": {},
          "execution_count": 10
        }
      ]
    },
    {
      "cell_type": "markdown",
      "source": [
        "# **Objectives setting**"
      ],
      "metadata": {
        "id": "eXx8YEKsoJan"
      }
    },
    {
      "cell_type": "markdown",
      "source": [
        "Using the [Wisconsin Breast Cancer Data Set](https://www.kaggle.com/datasets/uciml/breast-cancer-wisconsin-data) (Diagnostic) to predict whether a tumor is benign (0) or malignant (1) based on characteristics of the cells, such as radius, texture, smoothness, etc.\n",
        "\n",
        "The distribution of outcomes is uneven (benign diagnoses are more common than malignant) and there is a bias in terms of the importance of the outcomes (classifying all malignant cases correctly is of the utmost importance: **reduce Type II error**)."
      ],
      "metadata": {
        "id": "oHorZ53voY2w"
      }
    },
    {
      "cell_type": "markdown",
      "source": [
        "**1. The target variable is binary:**\n",
        " *One of the most basic assumptions of logistic regression is that the outcome variable needs to be binary, which means there are two possible outcomes. Multinomial logistic regression is an exception to this assumption and is beyond the scope of this lesson.*"
      ],
      "metadata": {
        "id": "1f-uT_jAnDmo"
      }
    },
    {
      "cell_type": "code",
      "source": [
        "df['diagnosis'] = df['diagnosis'].replace({'M':1,'B':0})\n",
        "\n",
        "df.diagnosis.value_counts()"
      ],
      "metadata": {
        "colab": {
          "base_uri": "https://localhost:8080/"
        },
        "id": "gwa0yP33mgic",
        "outputId": "5603559d-3ccf-48a7-d2e4-3a767db422f0"
      },
      "execution_count": null,
      "outputs": [
        {
          "output_type": "execute_result",
          "data": {
            "text/plain": [
              "0    357\n",
              "1    212\n",
              "Name: diagnosis, dtype: int64"
            ]
          },
          "metadata": {},
          "execution_count": 11
        }
      ]
    },
    {
      "cell_type": "markdown",
      "source": [
        "**2. Independent observations:**\n",
        "*Checking for independent observations in a data set is important for logistic regression. This can be violated if, in this case, patients are biopsied multiple times (repeated sampling of the same individual).*"
      ],
      "metadata": {
        "id": "gmnm4YXen2FS"
      }
    },
    {
      "cell_type": "code",
      "source": [
        "df.id.nunique()==df.id.count()"
      ],
      "metadata": {
        "colab": {
          "base_uri": "https://localhost:8080/"
        },
        "id": "T3NYA7O3rbx-",
        "outputId": "78f63fba-1226-4e79-9118-c31a345763a5"
      },
      "execution_count": null,
      "outputs": [
        {
          "output_type": "execute_result",
          "data": {
            "text/plain": [
              "True"
            ]
          },
          "metadata": {},
          "execution_count": 12
        }
      ]
    },
    {
      "cell_type": "markdown",
      "source": [
        "**3. Large enough sample size:**\n",
        "*Since logistic regression is fit using maximum likelihood estimation instead of least squares minimization, there must be a large enough sample to get convergence. When a model fails to converge, this causes the estimates to be extremely inaccurate. Often a rule of thumb is that there should be at least 10 samples per feature for the smallest class in the outcome variable.*\n",
        "\n",
        "*For example, if there were 100 samples and the outcome variable diagnosis had 60 benign tumors and 40 malignant tumors, then the max number of features allowed would be 4. To get 4 we took the smallest of the classes in the outcome variable, 40, and divided it by 10.*"
      ],
      "metadata": {
        "id": "F-ModPhQpdle"
      }
    },
    {
      "cell_type": "code",
      "source": [
        "# How many features should we have at max?\n",
        "min(df.diagnosis.value_counts())/10"
      ],
      "metadata": {
        "colab": {
          "base_uri": "https://localhost:8080/"
        },
        "id": "gFK2-Ox1r6q1",
        "outputId": "178c99cc-e66c-49a9-ec96-5f1ee5ec0606"
      },
      "execution_count": null,
      "outputs": [
        {
          "output_type": "execute_result",
          "data": {
            "text/plain": [
              "21.2"
            ]
          },
          "metadata": {},
          "execution_count": 13
        }
      ]
    },
    {
      "cell_type": "markdown",
      "source": [
        "**4. No influential outliers:**\n",
        "*Logistic regression is sensitive to outliers, so we must remove any extremely influential outliers for model building. Outliers are a broad topic with many different definitions – z-scores, scaler of the interquartile range, Cook’s distance/influence/leverage, etc – so there are many ways to identify them. But here, we will use visual tools to rule out obvious outliers.*"
      ],
      "metadata": {
        "id": "fEBh7ZWAp5LO"
      }
    },
    {
      "cell_type": "code",
      "source": [
        "# Define the labels for which we are going to predict:\n",
        "predictor_var = ['radius_mean', 'texture_mean', 'perimeter_mean',\n",
        "       'area_mean', 'smoothness_mean', 'compactness_mean', 'concavity_mean',\n",
        "       'concave points_mean', 'symmetry_mean', 'fractal_dimension_mean']\n",
        "\n",
        "sns.boxplot(data=np.log(df[predictor_var]+.01).apply(zscore))\n",
        "plt.xticks(rotation=45)\n",
        "plt.show()"
      ],
      "metadata": {
        "colab": {
          "base_uri": "https://localhost:8080/",
          "height": 546
        },
        "id": "hnddcLeAsyn7",
        "outputId": "9775573e-b3b9-48cf-d611-1dba7c2d64e2"
      },
      "execution_count": null,
      "outputs": [
        {
          "output_type": "display_data",
          "data": {
            "text/plain": [
              "<Figure size 640x480 with 1 Axes>"
            ],
            "image/png": "[encoded data removed]"
          },
          "metadata": {}
        }
      ]
    },
    {
      "cell_type": "code",
      "source": [
        "# Remove any samples that are above the 90 percentile in the feature that shows the biggest outlier: 'smoothness_mean'.\n",
        "q_hi  = df[\"fractal_dimension_mean\"].quantile(0.90)\n",
        "df_fil = df[(df[\"fractal_dimension_mean\"] < q_hi)]\n",
        "\n",
        "sns.boxplot(data=np.log(df_fil[predictor_var]+.01).apply(zscore))\n",
        "plt.xticks(rotation=45)\n",
        "plt.show()"
      ],
      "metadata": {
        "colab": {
          "base_uri": "https://localhost:8080/",
          "height": 546
        },
        "id": "tJ2aaLIRt7_J",
        "outputId": "a1d84a90-022f-4f17-c924-67f962dd95cb"
      },
      "execution_count": null,
      "outputs": [
        {
          "output_type": "display_data",
          "data": {
            "text/plain": [
              "<Figure size 640x480 with 1 Axes>"
            ],
            "image/png": "[encoded data removed]"
          },
          "metadata": {}
        }
      ]
    },
    {
      "cell_type": "code",
      "source": [
        "# Define labels and features:\n",
        "\n",
        "X=df_fil[predictor_var]\n",
        "y=df_fil['diagnosis']"
      ],
      "metadata": {
        "id": "ROOONFtCRjqW"
      },
      "execution_count": null,
      "outputs": []
    },
    {
      "cell_type": "markdown",
      "source": [
        "**5. Features linearly related to log odds:**\n",
        "*The underlying assumption of logistic regression is that the features are linearly related to the logit of the outcome. To test this visually, we can use Seaborn’s regplot, with the parameter logistic= True and the x value as our feature of interest. If this condition is met, the fit model will resemble a sigmoidal curve (as is the case when x=radius_mean).*"
      ],
      "metadata": {
        "id": "b_JQugcNwAte"
      }
    },
    {
      "cell_type": "code",
      "source": [
        "sns.regplot(x= 'radius_mean', y= 'diagnosis', data= df, logistic= True,)\n",
        "plt.show()\n",
        "\n",
        "sns.regplot(x= 'fractal_dimension_mean', y= 'diagnosis', data= df, logistic= True)\n",
        "plt.show()"
      ],
      "metadata": {
        "colab": {
          "base_uri": "https://localhost:8080/",
          "height": 883
        },
        "id": "1bLs17eMwSQD",
        "outputId": "2c34be41-f408-488e-83a5-0c3bb307f49a"
      },
      "execution_count": null,
      "outputs": [
        {
          "output_type": "display_data",
          "data": {
            "text/plain": [
              "<Figure size 640x480 with 1 Axes>"
            ],
            "image/png": "[encoded data removed]"
          },
          "metadata": {}
        },
        {
          "output_type": "display_data",
          "data": {
            "text/plain": [
              "<Figure size 640x480 with 1 Axes>"
            ],
            "image/png": "[encoded data removed]"
          },
          "metadata": {}
        }
      ]
    },
    {
      "cell_type": "markdown",
      "source": [
        "**6. Multicollinearity:**  *Like in linear regression, one of the assumptions is that there is no multicollinearity in the data. Meaning the features should not be highly correlated. Multicollinearity can cause the coefficients and p-values to be inaccurate. With a correlation plot, we can see which features are highly correlated and then we can drop one of the features.\n",
        "We’re going to look at the “mean” features which are highly correlated with each other using a heatmap correlation plot.*"
      ],
      "metadata": {
        "id": "b0kxYQV_KNBj"
      }
    },
    {
      "cell_type": "code",
      "source": [
        "plt.figure(figsize = (10,7))\n",
        "sns.heatmap(X.corr(), annot=True)\n",
        "plt.show()"
      ],
      "metadata": {
        "colab": {
          "base_uri": "https://localhost:8080/",
          "height": 761
        },
        "id": "s0S-lbq0wzHD",
        "outputId": "ca85f590-0534-4c3d-b59b-4ff89a4cad80"
      },
      "execution_count": null,
      "outputs": [
        {
          "output_type": "display_data",
          "data": {
            "text/plain": [
              "<Figure size 1000x700 with 2 Axes>"
            ],
            "image/png": "[encoded data removed]"
          },
          "metadata": {}
        }
      ]
    },
    {
      "cell_type": "markdown",
      "source": [
        "From the heatmap above we can see that there are highly correlated parameters:"
      ],
      "metadata": {
        "id": "64GewjnUJgru"
      }
    },
    {
      "cell_type": "code",
      "source": [
        "correlated_features=[['radius_mean', 'perimeter_mean', 'area_mean'],['concavity_mean','compactness_mean']]"
      ],
      "metadata": {
        "id": "hSgExfk2LENK"
      },
      "execution_count": null,
      "outputs": []
    },
    {
      "cell_type": "markdown",
      "source": [
        "# **Model implementation**"
      ],
      "metadata": {
        "id": "1dY7OF0AOQ_5"
      }
    },
    {
      "cell_type": "markdown",
      "source": [
        "Set-up train and test datasets:"
      ],
      "metadata": {
        "id": "s8iwAGmFPjqa"
      }
    },
    {
      "cell_type": "code",
      "source": [
        "X_train, X_test, y_train, y_test=train_test_split(X,y, test_size=0.3)"
      ],
      "metadata": {
        "id": "bWrKD9yQOaaR"
      },
      "execution_count": null,
      "outputs": []
    },
    {
      "cell_type": "markdown",
      "source": [
        "Create model. In this case we are interested in a LogisticRegression model.\n",
        "\n",
        "*Despite the name, logistic regression is being used as a classifier.*"
      ],
      "metadata": {
        "id": "vRwDZzTQP9cr"
      }
    },
    {
      "cell_type": "code",
      "source": [
        "log_reg=LogisticRegression(max_iter=1000)\n",
        "log_reg.get_params()"
      ],
      "metadata": {
        "colab": {
          "base_uri": "https://localhost:8080/"
        },
        "id": "5CKTUctzQXKi",
        "outputId": "7455b565-a2dd-4aa7-9eee-b0d4d41bc79d"
      },
      "execution_count": null,
      "outputs": [
        {
          "output_type": "execute_result",
          "data": {
            "text/plain": [
              "{'C': 1.0,\n",
              " 'class_weight': None,\n",
              " 'dual': False,\n",
              " 'fit_intercept': True,\n",
              " 'intercept_scaling': 1,\n",
              " 'l1_ratio': None,\n",
              " 'max_iter': 1000,\n",
              " 'multi_class': 'auto',\n",
              " 'n_jobs': None,\n",
              " 'penalty': 'l2',\n",
              " 'random_state': None,\n",
              " 'solver': 'lbfgs',\n",
              " 'tol': 0.0001,\n",
              " 'verbose': 0,\n",
              " 'warm_start': False}"
            ]
          },
          "metadata": {},
          "execution_count": 21
        }
      ]
    },
    {
      "cell_type": "markdown",
      "source": [
        "Fit the model to the train dataset and print coefficients and intercept:"
      ],
      "metadata": {
        "id": "s06h7_IQQa-P"
      }
    },
    {
      "cell_type": "code",
      "source": [
        "log_reg.fit(X_train,y_train)\n",
        "coeff=log_reg.coef_\n",
        "intercept=log_reg.intercept_\n",
        "\n",
        "print(f'Model coefficients:\\t{coeff}')\n",
        "print(f'Model intercept:\\t{intercept}')"
      ],
      "metadata": {
        "colab": {
          "base_uri": "https://localhost:8080/"
        },
        "id": "Nf9J8RLCQhbN",
        "outputId": "0ef0880d-bf6b-4590-b4bc-8a0687252c18"
      },
      "execution_count": null,
      "outputs": [
        {
          "output_type": "stream",
          "name": "stdout",
          "text": [
            "Model coefficients:\t[[-1.53761919  0.26196638  0.53900418 -0.00875038  0.2353186   0.30766029\n",
            "   0.70406181  0.39079034  0.20124302  0.05820224]]\n",
            "Model intercept:\t[-28.45709601]\n"
          ]
        }
      ]
    },
    {
      "cell_type": "markdown",
      "source": [
        "Predict the outcome variable:"
      ],
      "metadata": {
        "id": "nyhmUOV6WErc"
      }
    },
    {
      "cell_type": "code",
      "source": [
        "y_pred=log_reg.predict(X_test)"
      ],
      "metadata": {
        "id": "9zmqme-QVHCu"
      },
      "execution_count": null,
      "outputs": []
    },
    {
      "cell_type": "markdown",
      "source": [
        "Evaluate the model.\n",
        "\n",
        "Since logistic regression is being used as a classifier, any evaluation metrics for classification tasks will apply.\n",
        "\n",
        "The simplest metric is **accuracy** – how many correct predictions did we make out of the total? However, when classes are imbalanced, this can be a misleading metric for model performance.\n",
        "\n",
        "Similarly, if we care more about accurately predicting a certain class, other metrics may be more appropriate to use, such as **precision**, **recall**, or **F1-score** may be better to evaluate performance.\n",
        "\n",
        "For the breast cancer dataset, predicting ALL malignant cases as malignant is of the utmost importance – and even if there are some false positives (benign cases that are marked as malignant), these likely will be discovered by follow-up tests. Whereas missing a malignant case (classifying it as benign) could have deadly consequences. Thus, we want to **minimize false negatives**. This in turn will maximize the recall ratio (also known as the sensitivity or true positive rate)."
      ],
      "metadata": {
        "id": "HJaA4fb-Wgfj"
      }
    },
    {
      "cell_type": "code",
      "source": [
        "accuracy=accuracy_score(y_test, y_pred)\n",
        "precision=precision_score(y_test, y_pred)\n",
        "recall=recall_score(y_test, y_pred)\n",
        "f1=f1_score(y_test, y_pred)\n",
        "\n",
        "print(f'Test set accuracy:\\t{accuracy:.3f}')\n",
        "print(f'Test set precision:\\t{precision:.3f}')\n",
        "print(f'Test set recall:\\t{recall:.3f}')\n",
        "print(f'Test set f1-score:\\t{f1:.3f}')"
      ],
      "metadata": {
        "colab": {
          "base_uri": "https://localhost:8080/"
        },
        "id": "n37HtokuXTi0",
        "outputId": "ce8de489-8796-4153-b854-701a2efb3f44"
      },
      "execution_count": null,
      "outputs": [
        {
          "output_type": "stream",
          "name": "stdout",
          "text": [
            "Test set accuracy:\t0.896\n",
            "Test set precision:\t0.837\n",
            "Test set recall:\t0.837\n",
            "Test set f1-score:\t0.837\n"
          ]
        }
      ]
    },
    {
      "cell_type": "markdown",
      "source": [
        "Measure results via confusion matrix:"
      ],
      "metadata": {
        "id": "rySprjeRYk4V"
      }
    },
    {
      "cell_type": "code",
      "source": [
        "confusion =confusion_matrix(y_test, y_pred)\n",
        "\n",
        "conf_matrix = pd.DataFrame(\n",
        "    confusion,\n",
        "    index=['actual no', 'actual yes'],\n",
        "    columns=['predicted no', 'predicted yes']\n",
        ")\n",
        "\n",
        "print(\"\\033[1mResults baseline model:\\033[0m\")\n",
        "print()\n",
        "print(f'Baseline Recall score: {recall:.3f}')\n",
        "print(f'Baseline Accuracy score: {accuracy:.3f}')\n",
        "print()\n",
        "print(conf_matrix)"
      ],
      "metadata": {
        "colab": {
          "base_uri": "https://localhost:8080/"
        },
        "id": "nKwVFU5AYs9g",
        "outputId": "9dd5a99e-bab4-4d36-995b-77f4c8da41ec"
      },
      "execution_count": null,
      "outputs": [
        {
          "output_type": "stream",
          "name": "stdout",
          "text": [
            "\u001b[1mResults baseline model:\u001b[0m\n",
            "\n",
            "Baseline Recall score: 0.837\n",
            "Baseline Accuracy score: 0.896\n",
            "\n",
            "            predicted no  predicted yes\n",
            "actual no             97              8\n",
            "actual yes             8             41\n"
          ]
        }
      ]
    },
    {
      "cell_type": "code",
      "source": [
        "TN, FP, FN, TP = confusion.ravel()\n",
        "\n",
        "print(f'False negatives:\\t{FN}')"
      ],
      "metadata": {
        "colab": {
          "base_uri": "https://localhost:8080/"
        },
        "id": "tbWLun8gZj1d",
        "outputId": "920ec9c0-2af0-48d3-9d83-d7d935477689"
      },
      "execution_count": null,
      "outputs": [
        {
          "output_type": "stream",
          "name": "stdout",
          "text": [
            "False negatives:\t8\n"
          ]
        }
      ]
    },
    {
      "cell_type": "markdown",
      "source": [
        "# **Prediction Thresholds**"
      ],
      "metadata": {
        "id": "wHhSHc1asn7b"
      }
    },
    {
      "cell_type": "markdown",
      "source": [
        "Logistic regression not only predicts the class of a sample, but also the probability of a sample belonging to each class. It provides us with a measure of certainty associated with each prediction. In the default implementation in scikit-learn, a probability greater than 50% means that the predicted outcome will belong to the positive class. This is referred to as a prediction threshold."
      ],
      "metadata": {
        "id": "FeteofDjbxQm"
      }
    },
    {
      "cell_type": "code",
      "source": [
        "y_pred_prob=log_reg.predict_proba(X_test)[:,1]\n",
        "\n",
        "thresholds=[0.25,0.5,0.75]\n",
        "\n",
        "plt.figure(figsize=(10, 6))\n",
        "sns.histplot(y_pred_prob[y_test == 0], color='b', kde=True, label='Benign (Negative Class)',bins=20)\n",
        "sns.histplot(y_pred_prob[y_test == 1], color='orange', kde=True, label='Malignant (Positive Class)',bins=20)\n",
        "\n",
        "for threshold in thresholds:\n",
        "    plt.axvline(x=threshold, color='grey', linestyle='--')\n",
        "\n",
        "plt.xlabel('Predicted Probabilities')\n",
        "plt.ylabel('Frequency')\n",
        "plt.title('Histogram of Predicted Probabilities')\n",
        "plt.legend()\n",
        "plt.show()"
      ],
      "metadata": {
        "colab": {
          "base_uri": "https://localhost:8080/",
          "height": 564
        },
        "id": "ElCMkK6OrWD5",
        "outputId": "f0e5e5cc-c9da-488e-b001-c74d2c7d8aae"
      },
      "execution_count": null,
      "outputs": [
        {
          "output_type": "display_data",
          "data": {
            "text/plain": [
              "<Figure size 1000x600 with 1 Axes>"
            ],
            "image/png": "[encoded data removed]"
          },
          "metadata": {}
        }
      ]
    },
    {
      "cell_type": "markdown",
      "source": [
        "The histogram of the predicted probabilities for the logistic regression classifier is shown above. The benign (or negative class) is depicted in blue, and the malignant (or positive class) in orange for the breast cancer data set. The benign cases are heavily clustered around zero, which is good as they will be correctly classified as benign, whereas malignant cases are heavily clustered around one. The vertical lines depict hypothetical threshold values at 25%, 50%, and 75%. For the highest threshold, almost all the samples above 75% belong to the malignant class, but there will be some benign cases that are misdiagnosed as malignant (false positives). In addition, there are a number of malignant cases that are missed (false negatives). If instead the lowest threshold value is used, almost all the malignant cases are identified, but there are more false positives.\n",
        "\n",
        "Therefore, the value of the threshold is an additional lever that can be used to tune a model’s predictions. A higher value is generally associated with fewer false positives and more false negatives. Whereas a lower value is associated with fewer false negatives and more false positives."
      ],
      "metadata": {
        "id": "B4Ns9ZVDr-0E"
      }
    },
    {
      "cell_type": "code",
      "source": [
        "# Test a custom threshold\n",
        "custom_threshold = 0.75\n",
        "y_pred_custom_threshold = (y_pred_prob >= custom_threshold).astype(int)\n",
        "\n",
        "# Evaluate the model with the custom threshold\n",
        "accuracy_cust = accuracy_score(y_test, y_pred_custom_threshold)\n",
        "recall_cust = recall_score(y_test, y_pred_custom_threshold)\n",
        "conf_matrix_cust = confusion_matrix(y_test, y_pred_custom_threshold)\n",
        "\n",
        "conf_matrix_cust = pd.DataFrame(\n",
        "    conf_matrix_cust,\n",
        "    index=['actual no', 'actual yes'],\n",
        "    columns=['predicted no', 'predicted yes'])\n",
        "\n",
        "print(\"\\033[1mResults with custom prediction threshold:\\033[0m\")\n",
        "print()\n",
        "print(f'Custom Recall score: {recall_cust:.3f}')\n",
        "print(f'Custom Accuracy score: {accuracy_cust:.3f}')\n",
        "print()\n",
        "print(conf_matrix_cust)\n",
        "print()\n",
        "\n",
        "# Calculate ROC curve and AUC\n",
        "fpr_c, tpr_c, thresholds_c = roc_curve(y_test, y_pred_custom_threshold)\n",
        "roc_auc_cust = auc(fpr_c, tpr_c)\n",
        "\n",
        "f\"Model's separability score (AUC) = {roc_auc_cust:.2f}\"\n",
        "\n"
      ],
      "metadata": {
        "colab": {
          "base_uri": "https://localhost:8080/",
          "height": 196
        },
        "id": "GdKEFCqzgGgI",
        "outputId": "a9ea5d4f-593d-40ed-feaf-d6385c59683a"
      },
      "execution_count": null,
      "outputs": [
        {
          "output_type": "stream",
          "name": "stdout",
          "text": [
            "\u001b[1mResults with custom prediction threshold:\u001b[0m\n",
            "\n",
            "Custom Recall score: 0.735\n",
            "Custom Accuracy score: 0.890\n",
            "\n",
            "            predicted no  predicted yes\n",
            "actual no            101              4\n",
            "actual yes            13             36\n",
            "\n"
          ]
        },
        {
          "output_type": "execute_result",
          "data": {
            "text/plain": [
              "\"Model's separability score (AUC) = 0.85\""
            ],
            "application/vnd.google.colaboratory.intrinsic+json": {
              "type": "string"
            }
          },
          "metadata": {},
          "execution_count": 45
        }
      ]
    },
    {
      "cell_type": "markdown",
      "source": [
        "Changing the prediction threshold, the performance of the model change as well. Since our objective is minimizing the False Negatives, we might be interested in finding the maximum threshold that ensures the minimum FN we are willing to accept (max_FN):"
      ],
      "metadata": {
        "id": "St4kGaQgoGze"
      }
    },
    {
      "cell_type": "code",
      "source": [
        "max_FN=2\n",
        "\n",
        "#Array of thresholds\n",
        "thresh = np.linspace(0,1,100)\n",
        "false_negatives = []\n",
        "\n",
        "for t in thresh:\n",
        "  cm = confusion_matrix(y_test, (y_pred_prob>t)*1.0)\n",
        "  false_negatives.append(cm[1][0])\n",
        "thresh_choice = thresh[np.argmax(np.array(false_negatives)>=max_FN)]\n",
        "\n",
        "print(f'Minimum threshold that would maximize False Negatives to {max_FN}: {thresh_choice:.3f}')"
      ],
      "metadata": {
        "colab": {
          "base_uri": "https://localhost:8080/"
        },
        "id": "8JKvBOr6oDvC",
        "outputId": "254ecfd9-4533-4958-9943-4056ca6fda44"
      },
      "execution_count": null,
      "outputs": [
        {
          "output_type": "stream",
          "name": "stdout",
          "text": [
            "Minimum threshold that would maximize False Negatives to 2: 0.081\n"
          ]
        }
      ]
    },
    {
      "cell_type": "markdown",
      "source": [
        "# **ROC and AUC**"
      ],
      "metadata": {
        "id": "bSON-Kmpsfw9"
      }
    },
    {
      "cell_type": "markdown",
      "source": [
        "There is a continuum of predictions available in a single model by varying the threshold incrementally from zero to one. For each of these thresholds, the True Positive Rate (TPR) and the False Positive Rate (FPR) can be calculated and then plot. The resulting curve these points form is known as the Receiver Operating Characteristic (ROC) curve."
      ],
      "metadata": {
        "id": "ODvGydBBSsUU"
      }
    },
    {
      "cell_type": "code",
      "source": [
        "# Calculate ROC curve and AUC\n",
        "fpr, tpr, thresholds = roc_curve(y_test, y_pred_prob)\n",
        "roc_auc = auc(fpr, tpr)\n",
        "\n",
        "# Plot ROC curve\n",
        "plt.figure(figsize=(8, 8))\n",
        "plt.plot(fpr, tpr, color='darkorange', lw=2, label=f'AUC = {roc_auc:.2f}')\n",
        "plt.plot([0, 1], [0, 1], color='navy', lw=2, label='Dummy classification',linestyle='--')\n",
        "idx = list(range(len(thresholds)))[1::4]\n",
        "for i in idx:\n",
        "    plt.text(fpr[i], tpr[i], thresholds[i].round(2))\n",
        "plt.xlabel('False Positive Rate (FPR)')\n",
        "plt.ylabel('True Positive Rate (TPR)')\n",
        "plt.title('Receiver Operating Characteristic (ROC) Curve')\n",
        "plt.legend(loc='lower right')\n",
        "plt.show()"
      ],
      "metadata": {
        "colab": {
          "base_uri": "https://localhost:8080/",
          "height": 718
        },
        "id": "2qe-7dDoSvxd",
        "outputId": "196d4163-2d7b-40a1-ab11-d9d86594e581"
      },
      "execution_count": null,
      "outputs": [
        {
          "output_type": "display_data",
          "data": {
            "text/plain": [
              "<Figure size 800x800 with 1 Axes>"
            ],
            "image/png": "[encoded data removed]"
          },
          "metadata": {}
        }
      ]
    },
    {
      "cell_type": "code",
      "source": [
        "# Model separability score:\n",
        "f\"Model's separability score (AUC) = {roc_auc:.2f}\""
      ],
      "metadata": {
        "colab": {
          "base_uri": "https://localhost:8080/",
          "height": 35
        },
        "id": "XfZPFTIPX0Ue",
        "outputId": "f0be4706-dc3b-4a06-d5ba-9abdbc54bb97"
      },
      "execution_count": null,
      "outputs": [
        {
          "output_type": "execute_result",
          "data": {
            "text/plain": [
              "\"Model's separability score (AUC) = 0.96\""
            ],
            "application/vnd.google.colaboratory.intrinsic+json": {
              "type": "string"
            }
          },
          "metadata": {},
          "execution_count": 31
        }
      ]
    },
    {
      "cell_type": "markdown",
      "source": [
        "In the ROC curve plotted above, the True Positive Rate (**TPR = TP / TP + FN**) is on the y-axis and the False Positive Rate (**FPR = FP / TN + FP**) is on the x-axis. The ROC curve is the orange line and the dashed blue line is the '*Dummy classification*' line, which is the equivalent of random guessing.\n",
        "\n",
        "The ROC curve can help us decide on a threshold that best fits our specific classification problem."
      ],
      "metadata": {
        "id": "9V5uamRpUNWQ"
      }
    },
    {
      "cell_type": "markdown",
      "source": [
        "# **Correcting class imbalance**"
      ],
      "metadata": {
        "id": "ukskKSdoclQ4"
      }
    },
    {
      "cell_type": "markdown",
      "source": [
        "Class imbalance is when your binary classes for the outcome variable are not evenly split. Technically, anything different from a 50/50 distribution would be imbalanced and need appropriate care. In the case of rare events, sometimes the positive class can be less than 1% of the total. If classes are significantly imbalanced, this could create a bias towards the majority class since the model learns that it can have a higher accuracy if it predicts the majority class more often."
      ],
      "metadata": {
        "id": "sEVq4zrhdVod"
      }
    },
    {
      "cell_type": "markdown",
      "source": [
        "**Positivity Rate:** *We can use the positivity rate to tell us how balanced our classes are. The positivity rate is the rate of occurrence for the positive class. With our breast cancer data, the formula is **Positivity Rate = Total Malignant Cases / Total Cases**. If our positivity rate is close to .5, then our classes are balanced.*"
      ],
      "metadata": {
        "id": "-wumH7SMeHiO"
      }
    },
    {
      "cell_type": "code",
      "source": [
        "# Calculate positivity rate:\n",
        "\n",
        "train_pos_rate=sum(y_train)/y_train.shape[0]\n",
        "print(f'Train positivity rate: {train_pos_rate:.3f}')\n",
        "\n",
        "test_pos_rate=sum(y_test)/y_test.shape[0]\n",
        "print(f'Test positivity rate: {test_pos_rate:.3f}')\n"
      ],
      "metadata": {
        "colab": {
          "base_uri": "https://localhost:8080/"
        },
        "id": "WGxzhNtAdh8T",
        "outputId": "8954b7c0-cb34-4182-9bba-32729a6fee4d"
      },
      "execution_count": null,
      "outputs": [
        {
          "output_type": "stream",
          "name": "stdout",
          "text": [
            "Train positivity rate: 0.377\n",
            "Test positivity rate: 0.318\n"
          ]
        }
      ]
    },
    {
      "cell_type": "markdown",
      "source": [
        "The positivity rate achieved by the original model shows a sensible class imbalance."
      ],
      "metadata": {
        "id": "3SF4qEUokX9s"
      }
    },
    {
      "cell_type": "markdown",
      "source": [
        "**Stratification:**  *If the classes are imbalanced (more likely to happen with smaller datasets like this) then this difference can become even greater after we split the data into a training and testing dataset. One way to mitigate this is to randomly split using stratification on the class labels.*\n",
        "\n",
        "*Stratification is when the data is sorted into subgroups to ensure a nearly equal class distribution in your train and test sets.*"
      ],
      "metadata": {
        "id": "dBzMVdpncrtH"
      }
    },
    {
      "cell_type": "code",
      "source": [
        "# Re-train the model with a stratified train/test split:\n",
        "\n",
        "X_train_str, X_test_str, y_train_str, y_test_str=train_test_split(X,y, test_size=0.3,stratify=y)\n",
        "\n",
        "log_reg.fit(X_train_str,y_train_str)\n",
        "y_pred_str = log_reg.predict(X_test_str)\n",
        "\n",
        "recall_str = recall_score(y_test_str, y_pred_str)\n",
        "accuracy_str = accuracy_score(y_test_str, y_pred_str)\n",
        "\n",
        "confusion_str =confusion_matrix(y_test_str, y_pred_str)\n",
        "\n",
        "conf_matrix_str = pd.DataFrame(\n",
        "    confusion_str,\n",
        "    index=['actual no', 'actual yes'],\n",
        "    columns=['predicted no', 'predicted yes']\n",
        ")\n",
        "\n",
        "print(\"\\033[1mResults with Stratification:\\033[0m\")\n",
        "print()\n",
        "print(f'Stratified Recall score: {recall_str:.3f}')\n",
        "print(f'Stratified Accuracy score: {accuracy_str:.3f}')\n",
        "print()\n",
        "print(conf_matrix_str)\n"
      ],
      "metadata": {
        "colab": {
          "base_uri": "https://localhost:8080/"
        },
        "id": "6GgyneObmOyQ",
        "outputId": "b8b25974-bd73-4422-cd8c-3703d9e097e9"
      },
      "execution_count": null,
      "outputs": [
        {
          "output_type": "stream",
          "name": "stdout",
          "text": [
            "\u001b[1mResults with Stratification:\u001b[0m\n",
            "\n",
            "Stratified Recall score: 0.800\n",
            "Stratified Accuracy score: 0.909\n",
            "\n",
            "            predicted no  predicted yes\n",
            "actual no             96              3\n",
            "actual yes            11             44\n"
          ]
        }
      ]
    },
    {
      "cell_type": "markdown",
      "source": [
        "After using stratification, the training and testing datasets should have a very similar positivity rate (but stratification does not necessarily cause the positivity rate of the dataset to reach closer to .5)"
      ],
      "metadata": {
        "id": "hd7S38eHmhTP"
      }
    },
    {
      "cell_type": "code",
      "source": [
        "# Calculate positivity rate with a stratified train/test split:\n",
        "\n",
        "train_pos_rate_str=sum(y_train_str)/y_train_str.shape[0]\n",
        "print(f'Stratified train positivity rate: {train_pos_rate_str:.3f}')\n",
        "\n",
        "test_pos_rate_str=sum(y_test_str)/y_test_str.shape[0]\n",
        "print(f'Stratified test positivity rate: {test_pos_rate_str:.3f}')"
      ],
      "metadata": {
        "colab": {
          "base_uri": "https://localhost:8080/"
        },
        "id": "A0rvxwRik8hV",
        "outputId": "36787bec-1a16-437b-dd13-25532554f2b6"
      },
      "execution_count": null,
      "outputs": [
        {
          "output_type": "stream",
          "name": "stdout",
          "text": [
            "Stratified train positivity rate: 0.360\n",
            "Stratified test positivity rate: 0.357\n"
          ]
        }
      ]
    },
    {
      "cell_type": "markdown",
      "source": [
        "**Under/Over sampling:** *To bring the positivity rate of the dataset closer to .5, we can undersample the majority class or oversample the minority class. For oversampling, repeated samples (with replacement) are taken from the minority class until the size is equal to that of the majority class. This causes the same data to be used multiple times, giving a higher weight to these samples. Alternatively, undersampling leaves out some of the majority class data to have the same number of samples as the minority class, leaving fewer data to build the model.*"
      ],
      "metadata": {
        "id": "WQdaGjjhwr04"
      }
    },
    {
      "cell_type": "code",
      "source": [
        "# Define oversampling pipeline\n",
        "over_sampling_pipeline = Pipeline([\n",
        "    ('oversampler', RandomOverSampler(sampling_strategy='minority')),\n",
        "    ('model', log_reg)\n",
        "])\n",
        "\n",
        "# Train and evaluate models with oversampling\n",
        "over_sampling_pipeline.fit(X_train_str, y_train_str)\n",
        "y_pred_over = over_sampling_pipeline.predict(X_test_str)\n",
        "\n",
        "recall_over = recall_score(y_test_str, y_pred_over)\n",
        "accuracy_over = accuracy_score(y_test_str, y_pred_over)\n",
        "\n",
        "confusion_over =confusion_matrix(y_test_str, y_pred_over)\n",
        "\n",
        "conf_matrix_over = pd.DataFrame(\n",
        "    confusion_over,\n",
        "    index=['actual no', 'actual yes'],\n",
        "    columns=['predicted no', 'predicted yes']\n",
        ")"
      ],
      "metadata": {
        "id": "mxIwbYM3z77r"
      },
      "execution_count": null,
      "outputs": []
    },
    {
      "cell_type": "code",
      "source": [
        "# Define undersampling pipeline\n",
        "under_sampling_pipeline = Pipeline([\n",
        "    ('undersampler', RandomUnderSampler(sampling_strategy='majority')),\n",
        "    ('model', log_reg)\n",
        "])\n",
        "\n",
        "# Train and evaluate models with undersampling\n",
        "under_sampling_pipeline.fit(X_train_str, y_train_str)\n",
        "y_pred_under = under_sampling_pipeline.predict(X_test_str)\n",
        "\n",
        "recall_under = recall_score(y_test_str, y_pred_under)\n",
        "accuracy_under = accuracy_score(y_test_str, y_pred_under)\n",
        "\n",
        "confusion_under =confusion_matrix(y_test_str, y_pred_under)\n",
        "\n",
        "conf_matrix_under = pd.DataFrame(\n",
        "    confusion_under,\n",
        "    index=['actual no', 'actual yes'],\n",
        "    columns=['predicted no', 'predicted yes']\n",
        ")"
      ],
      "metadata": {
        "id": "uBqjbqFD3G9h"
      },
      "execution_count": null,
      "outputs": []
    },
    {
      "cell_type": "code",
      "source": [
        "print(\"\\033[1mResults with Oversampling:\\033[0m\")\n",
        "print()\n",
        "print(f'Oversampled Recall score: {recall_over:.3f}')\n",
        "print(f'Oversampled Accuracy score: {accuracy_over:.3f}')\n",
        "print()\n",
        "print(conf_matrix_over)\n",
        "print()\n",
        "print('-'*40)\n",
        "print()\n",
        "print(\"\\033[1mResults with Undersampling:\\033[0m\")\n",
        "print()\n",
        "print(f'Undersampled Recall score: {recall_under:.3f}')\n",
        "print(f'Undersampled Accuracy score: {accuracy_under:.3f}')\n",
        "print()\n",
        "print(conf_matrix_under)"
      ],
      "metadata": {
        "colab": {
          "base_uri": "https://localhost:8080/"
        },
        "id": "MH_9vW0s4VrT",
        "outputId": "e564dfab-7ce4-4195-f26a-92901c55b91b"
      },
      "execution_count": null,
      "outputs": [
        {
          "output_type": "stream",
          "name": "stdout",
          "text": [
            "\u001b[1mResults with Oversampling:\u001b[0m\n",
            "\n",
            "Oversampled Recall score: 0.855\n",
            "Oversampled Accuracy score: 0.916\n",
            "\n",
            "            predicted no  predicted yes\n",
            "actual no             94              5\n",
            "actual yes             8             47\n",
            "\n",
            "----------------------------------------\n",
            "\n",
            "\u001b[1mResults with Undersampling:\u001b[0m\n",
            "\n",
            "Undersampled Recall score: 0.855\n",
            "Undersampled Accuracy score: 0.916\n",
            "\n",
            "            predicted no  predicted yes\n",
            "actual no             94              5\n",
            "actual yes             8             47\n"
          ]
        }
      ]
    },
    {
      "cell_type": "markdown",
      "source": [
        "**Balance the Class Weight:**\n",
        "*When training a model, it is the default for every sample to be weighted equally. However, in the case of class imbalance, this can result in poor predictive power for the smaller of the two classes. A way to counteract this in logistic regression is to use the parameter class_weight='balanced'. This applies a weight inversely proportional to the class frequency, therefore supplying higher weight to misclassified instances in the smaller class. While overall accuracy may not increase, this can increase the accuracy for the smaller class (e.g. increase the number of malignant cases correctly diagnosed).*\n",
        "\n",
        "*We want the recall score (also known as the True Positive Rate) to be as high as we can get it for our breast cancer data.*"
      ],
      "metadata": {
        "id": "2X1BAbjPyV7v"
      }
    },
    {
      "cell_type": "code",
      "source": [
        "# Fitting the balanced class Logistic Regression classifier to the training data\n",
        "log_reg_bal=LogisticRegression(penalty=None,max_iter=1000,class_weight='balanced')\n",
        "\n",
        "# Modeling predictions after balancing Class Weights\n",
        "log_reg_bal.fit(X_train_str,y_train_str)\n",
        "y_pred_bal=log_reg_bal.predict(X_test_str)\n",
        "\n",
        "recall_bal=recall_score(y_test_str,y_pred_bal)\n",
        "accuracy_bal=accuracy_score(y_test_str,y_pred_bal)\n",
        "\n",
        "confusion_bal =confusion_matrix(y_test_str, y_pred_bal)\n",
        "\n",
        "conf_matrix_bal= pd.DataFrame(\n",
        "    confusion_bal,\n",
        "    index=['actual no', 'actual yes'],\n",
        "    columns=['predicted no', 'predicted yes']\n",
        ")\n",
        "\n",
        "print(\"\\033[1mResults with Balanced Class Weight:\\033[0m\")\n",
        "print()\n",
        "print(f'Balanced Class Weight Recall score: {recall_bal:.3f}')\n",
        "print(f'Balanced Class Weight Accuracy score: {accuracy_bal:.3f}')\n",
        "print()\n",
        "print(conf_matrix_bal)"
      ],
      "metadata": {
        "colab": {
          "base_uri": "https://localhost:8080/"
        },
        "id": "EDoXqaPAysxl",
        "outputId": "4e8557e6-7691-4765-e627-5ad64b857310"
      },
      "execution_count": null,
      "outputs": [
        {
          "output_type": "stream",
          "name": "stdout",
          "text": [
            "\u001b[1mResults with Balanced Class Weight:\u001b[0m\n",
            "\n",
            "Balanced Class Weight Recall score: 0.927\n",
            "Balanced Class Weight Accuracy score: 0.948\n",
            "\n",
            "            predicted no  predicted yes\n",
            "actual no             95              4\n",
            "actual yes             4             51\n"
          ]
        }
      ]
    },
    {
      "cell_type": "markdown",
      "source": [
        "# **Result summary**"
      ],
      "metadata": {
        "id": "Bhoq_WIHXtP8"
      }
    },
    {
      "cell_type": "code",
      "source": [
        "print(\"\\033[1mResults baseline model:\\033[0m\")\n",
        "print()\n",
        "print(f'Baseline Recall score: {recall:.3f}')\n",
        "print(f'Baseline Accuracy score: {accuracy:.3f}')\n",
        "print()\n",
        "print(conf_matrix)\n",
        "print()\n",
        "print(\"\\033[1mResults with Stratification:\\033[0m\")\n",
        "print()\n",
        "print(f'Stratified Recall score: {recall_str:.3f}')\n",
        "print(f'Stratified Accuracy score: {accuracy_str:.3f}')\n",
        "print()\n",
        "print(conf_matrix_str)\n",
        "print()\n",
        "print(\"\\033[1mResults with Oversampling:\\033[0m\")\n",
        "print()\n",
        "print(f'Oversampled Recall score: {recall_over:.3f}')\n",
        "print(f'Oversampled Accuracy score: {accuracy_over:.3f}')\n",
        "print()\n",
        "print(conf_matrix_over)\n",
        "print()\n",
        "print('-'*40)\n",
        "print()\n",
        "print(\"\\033[1mResults with Undersampling:\\033[0m\")\n",
        "print()\n",
        "print(f'Undersampled Recall score: {recall_under:.3f}')\n",
        "print(f'Undersampled Accuracy score: {accuracy_under:.3f}')\n",
        "print()\n",
        "print(conf_matrix_under)\n",
        "print()\n",
        "print(\"\\033[1mResults with Balanced Class Weight:\\033[0m\")\n",
        "print()\n",
        "print(f'Balanced Class Weight Recall score: {recall_bal:.3f}')\n",
        "print(f'Balanced Class Weight Accuracy score: {accuracy_bal:.3f}')\n",
        "print()\n",
        "print(conf_matrix_bal)\n",
        "print()"
      ],
      "metadata": {
        "colab": {
          "base_uri": "https://localhost:8080/"
        },
        "id": "4ld3XHa5X0AB",
        "outputId": "cec21bfd-7c9d-4b4d-fc5f-65811e0822de"
      },
      "execution_count": null,
      "outputs": [
        {
          "output_type": "stream",
          "name": "stdout",
          "text": [
            "\u001b[1mResults baseline model:\u001b[0m\n",
            "\n",
            "Baseline Recall score: 0.837\n",
            "Baseline Accuracy score: 0.896\n",
            "\n",
            "            predicted no  predicted yes\n",
            "actual no             97              8\n",
            "actual yes             8             41\n",
            "\n",
            "\u001b[1mResults with Stratification:\u001b[0m\n",
            "\n",
            "Stratified Recall score: 0.800\n",
            "Stratified Accuracy score: 0.909\n",
            "\n",
            "            predicted no  predicted yes\n",
            "actual no             96              3\n",
            "actual yes            11             44\n",
            "\n",
            "\u001b[1mResults with Oversampling:\u001b[0m\n",
            "\n",
            "Oversampled Recall score: 0.855\n",
            "Oversampled Accuracy score: 0.916\n",
            "\n",
            "            predicted no  predicted yes\n",
            "actual no             94              5\n",
            "actual yes             8             47\n",
            "\n",
            "----------------------------------------\n",
            "\n",
            "\u001b[1mResults with Undersampling:\u001b[0m\n",
            "\n",
            "Undersampled Recall score: 0.855\n",
            "Undersampled Accuracy score: 0.916\n",
            "\n",
            "            predicted no  predicted yes\n",
            "actual no             94              5\n",
            "actual yes             8             47\n",
            "\n",
            "\u001b[1mResults with Balanced Class Weight:\u001b[0m\n",
            "\n",
            "Balanced Class Weight Recall score: 0.927\n",
            "Balanced Class Weight Accuracy score: 0.948\n",
            "\n",
            "            predicted no  predicted yes\n",
            "actual no             95              4\n",
            "actual yes             4             51\n",
            "\n"
          ]
        }
      ]
    },
    {
      "cell_type": "markdown",
      "source": [
        "The best predicting power is delivered by the Balanced Class Weight model, which also leverages the stratification technique."
      ],
      "metadata": {
        "id": "ctp77U_aY57y"
      }
    }
  ]
}
